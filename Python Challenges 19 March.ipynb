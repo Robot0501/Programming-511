{
 "cells": [
  {
   "cell_type": "code",
   "execution_count": 28,
   "id": "e922132f",
   "metadata": {},
   "outputs": [
    {
     "name": "stdout",
     "output_type": "stream",
     "text": [
      "Enter word: word\n"
     ]
    },
    {
     "data": {
      "text/plain": [
       "'No capitals'"
      ]
     },
     "execution_count": 28,
     "metadata": {},
     "output_type": "execute_result"
    }
   ],
   "source": [
    "# Capital Indexes\n",
    "\n",
    "def Capital_Index(word):\n",
    "    \n",
    "    word = input(\"Enter word: \")\n",
    "    LetterPlace = 1\n",
    "\n",
    "    Capitals = []\n",
    "\n",
    "    for i in word:\n",
    "        # i = each letter in word\n",
    "        if i == i.upper():\n",
    "            Capitals.append(LetterPlace)\n",
    "            LetterPlace+=1\n",
    "        else:\n",
    "            LetterPlace+=1\n",
    "\n",
    "    if Capitals == []:\n",
    "        return(\"No capitals\")\n",
    "    else:\n",
    "        return(Capitals)\n",
    "\n",
    "\n"
   ]
  },
  {
   "cell_type": "code",
   "execution_count": 29,
   "id": "c34aeb6c",
   "metadata": {},
   "outputs": [
    {
     "name": "stdout",
     "output_type": "stream",
     "text": [
      "Enter word: Word\n"
     ]
    },
    {
     "data": {
      "text/plain": [
       "[1]"
      ]
     },
     "execution_count": 29,
     "metadata": {},
     "output_type": "execute_result"
    }
   ],
   "source": [
    "Capital_Index('Word')"
   ]
  },
  {
   "cell_type": "code",
   "execution_count": 17,
   "id": "a3a48cbe",
   "metadata": {},
   "outputs": [],
   "source": [
    "# Middle Letter\n",
    "\n",
    "def Middle_Letter(sWord):\n",
    "    \n",
    "    Length = float(len(sWord))\n",
    "\n",
    "    if (Length/2) % 2 == 0:\n",
    "        return('')\n",
    "    else:\n",
    "        Length = int(Length/2)\n",
    "        return(sWord[Length])\n",
    "               \n",
    "\n",
    "    "
   ]
  },
  {
   "cell_type": "code",
   "execution_count": 22,
   "id": "81067517",
   "metadata": {},
   "outputs": [
    {
     "data": {
      "text/plain": [
       "''"
      ]
     },
     "execution_count": 22,
     "metadata": {},
     "output_type": "execute_result"
    }
   ],
   "source": [
    "\n",
    "sWord2 = \"abcd\"\n",
    "\n",
    "Middle_Letter(sWord2)"
   ]
  },
  {
   "cell_type": "code",
   "execution_count": null,
   "id": "14e20307",
   "metadata": {},
   "outputs": [],
   "source": [
    "#Online status\n",
    "\n",
    "\n"
   ]
  }
 ],
 "metadata": {
  "kernelspec": {
   "display_name": "Python 3 (ipykernel)",
   "language": "python",
   "name": "python3"
  },
  "language_info": {
   "codemirror_mode": {
    "name": "ipython",
    "version": 3
   },
   "file_extension": ".py",
   "mimetype": "text/x-python",
   "name": "python",
   "nbconvert_exporter": "python",
   "pygments_lexer": "ipython3",
   "version": "3.9.13"
  }
 },
 "nbformat": 4,
 "nbformat_minor": 5
}
