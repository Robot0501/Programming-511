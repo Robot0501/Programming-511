{
 "cells": [
  {
   "cell_type": "code",
   "execution_count": 1,
   "id": "5453b2ef",
   "metadata": {},
   "outputs": [
    {
     "name": "stdout",
     "output_type": "stream",
     "text": [
      "Enter number:3\n",
      "Enter number:4\n",
      "Enter number:5\n",
      "Enter number:6\n",
      "Enter number:7\n",
      "Enter number:-1\n",
      "24\n"
     ]
    }
   ],
   "source": [
    "# 1\n",
    "\n",
    "userNum = 0\n",
    "Total = 0\n",
    "\n",
    "while userNum!=-1:\n",
    "    userNum= int(input(\"Enter number:\"))\n",
    "    Total = Total + userNum\n",
    "    \n",
    "print(Total)\n",
    "    \n",
    "    "
   ]
  },
  {
   "cell_type": "code",
   "execution_count": 12,
   "id": "477943e3",
   "metadata": {},
   "outputs": [
    {
     "name": "stdout",
     "output_type": "stream",
     "text": [
      "Enter word: asfdgh\n"
     ]
    },
    {
     "data": {
      "text/plain": [
       "'hgdfsa'"
      ]
     },
     "execution_count": 12,
     "metadata": {},
     "output_type": "execute_result"
    }
   ],
   "source": [
    "# 2\n",
    "\n",
    "def reverse_string(sString):\n",
    "    \n",
    "    return sString[::-1]\n",
    "\n",
    "sString = input(\"Enter word: \")\n",
    "\n",
    "reverse_string(sString)\n"
   ]
  },
  {
   "cell_type": "code",
   "execution_count": 14,
   "id": "31150854",
   "metadata": {},
   "outputs": [
    {
     "name": "stdout",
     "output_type": "stream",
     "text": [
      "Enter word: asdfdhjyui\n"
     ]
    },
    {
     "data": {
      "text/plain": [
       "3"
      ]
     },
     "execution_count": 14,
     "metadata": {},
     "output_type": "execute_result"
    }
   ],
   "source": [
    "# 3\n",
    "\n",
    "def count_vowels(sString):\n",
    "    \n",
    "    \n",
    "    count = 0\n",
    "    \n",
    "    for i in sString:\n",
    "        \n",
    "        if i == 'a':\n",
    "            count+=1\n",
    "        elif i == 'e':\n",
    "            count+=1\n",
    "        elif i == 'i':\n",
    "            count+=1\n",
    "        elif i == 'o':\n",
    "            count+=1\n",
    "        elif i == 'u':\n",
    "            count+=1\n",
    "        else:\n",
    "            pass\n",
    "    \n",
    "    return(count)\n",
    "    \n",
    "sString = input(\"Enter word: \")\n",
    "    \n",
    "count_vowels(sString)    \n"
   ]
  },
  {
   "cell_type": "code",
   "execution_count": 16,
   "id": "1f7fad74",
   "metadata": {},
   "outputs": [
    {
     "name": "stdout",
     "output_type": "stream",
     "text": [
      "4.0\n"
     ]
    }
   ],
   "source": [
    "# 4\n",
    "\n",
    "def calculate_average(listNum):\n",
    "    \n",
    "    total = 0\n",
    "    average = 0\n",
    "    \n",
    "    for i in listNum:\n",
    "        total = total + i\n",
    "    \n",
    "    average = total/(len(listNum))\n",
    "    print(average)\n",
    "    \n",
    "listofthings = [1,2,3,4,5,6,7]\n",
    "\n",
    "calculate_average(listofthings)\n"
   ]
  },
  {
   "cell_type": "code",
   "execution_count": 18,
   "id": "9bb1d9a9",
   "metadata": {},
   "outputs": [
    {
     "name": "stdout",
     "output_type": "stream",
     "text": [
      "Enter length: 6\n",
      "ENTER: 6\n",
      "*  \n",
      "* *  \n",
      "* * *  \n",
      "* * * *  \n",
      "* * * * *  \n",
      "* * * * * *  \n"
     ]
    }
   ],
   "source": [
    "# 5\n",
    "\n",
    "length = int(input(\"Enter length: \"))+1\n",
    "\n",
    "word = ''\n",
    "\n",
    "def asteriks(n):\n",
    "    for i in range(1,n+1):\n",
    "        for j in range(1,i+1):\n",
    "            print(\"*\", end=\" \")\n",
    "        print(\" \")\n",
    "        \n",
    "n = int(input(\"ENTER: \"))\n",
    "\n",
    "asteriks(n)"
   ]
  },
  {
   "cell_type": "code",
   "execution_count": 39,
   "id": "bebccf77",
   "metadata": {},
   "outputs": [
    {
     "name": "stdout",
     "output_type": "stream",
     "text": [
      "Enter length5\n",
      " * * * * *\n",
      " * * * *\n",
      " * * *\n",
      " * *\n",
      " *\n"
     ]
    }
   ],
   "source": [
    "# 6\n",
    "\n",
    "def asteriks(n):\n",
    "    \n",
    "    word = ''\n",
    "    \n",
    "    for x in range(1,n+1):\n",
    "        word = word + ' *'\n",
    "        \n",
    "    print(word)\n",
    "    \n",
    "    for i in range(1,n):\n",
    "        word = word.replace(' *','',1)\n",
    "        print(word)\n",
    "        \n",
    "n = int(input('Enter length'))\n",
    "asteriks(n)\n"
   ]
  },
  {
   "cell_type": "code",
   "execution_count": 42,
   "id": "828cdb23",
   "metadata": {},
   "outputs": [
    {
     "name": "stdout",
     "output_type": "stream",
     "text": [
      "Guess the number! 5\n",
      "Incorrect! Try again! 2 remaining!\n",
      "Guess the number! 4\n",
      "Incorrect! Try again! 1 remaining!\n",
      "Guess the number! 7\n",
      "Incorrect! Try again! 0 remaining!\n"
     ]
    }
   ],
   "source": [
    "\n",
    "attempts = 3\n",
    "\n",
    "correct = '6'\n",
    "\n",
    "userWord = ''\n",
    "\n",
    "while attempts!=0:\n",
    "    \n",
    "    userWord = input(\"Guess the number! \")\n",
    "    \n",
    "    if userWord == correct:\n",
    "        print(\"Correct! Good job!\")\n",
    "        break\n",
    "    else:\n",
    "        attempts-=1\n",
    "        print(\"Incorrect! Try again! \" + str(attempts) + \" remaining!\")\n"
   ]
  },
  {
   "cell_type": "code",
   "execution_count": null,
   "id": "21c04e7c",
   "metadata": {},
   "outputs": [],
   "source": []
  }
 ],
 "metadata": {
  "kernelspec": {
   "display_name": "Python 3 (ipykernel)",
   "language": "python",
   "name": "python3"
  },
  "language_info": {
   "codemirror_mode": {
    "name": "ipython",
    "version": 3
   },
   "file_extension": ".py",
   "mimetype": "text/x-python",
   "name": "python",
   "nbconvert_exporter": "python",
   "pygments_lexer": "ipython3",
   "version": "3.9.13"
  }
 },
 "nbformat": 4,
 "nbformat_minor": 5
}
