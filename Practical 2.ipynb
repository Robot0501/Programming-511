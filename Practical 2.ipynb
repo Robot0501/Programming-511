{
 "cells": [
  {
   "cell_type": "code",
   "execution_count": 2,
   "id": "3d3d5a0e",
   "metadata": {},
   "outputs": [
    {
     "name": "stdout",
     "output_type": "stream",
     "text": [
      "Please enter your grade:60\n",
      "Grade is C\n"
     ]
    }
   ],
   "source": [
    "#Mark checker\n",
    "\n",
    "Mark = int(input(\"Please enter your grade:\"))\n",
    "\n",
    "if Mark >= 80:\n",
    "    print(\"Grade is A\")\n",
    "elif Mark>= 70:\n",
    "    print(\"Grade is B\")\n",
    "elif Mark >= 60:\n",
    "    print(\"Grade is C\")\n",
    "elif Mark >= 50:\n",
    "    print(\"Grade is D\")\n",
    "elif Mark >= 40:\n",
    "    print(\"Grade is E\")\n",
    "else:\n",
    "    print(\"Grade is F\")"
   ]
  },
  {
   "cell_type": "code",
   "execution_count": 4,
   "id": "ddc6d000",
   "metadata": {},
   "outputs": [
    {
     "name": "stdout",
     "output_type": "stream",
     "text": [
      "Enter number: 2\n",
      "Number = Even\n"
     ]
    }
   ],
   "source": [
    "# Number is positive\n",
    "\n",
    "Number = int(input(\"Enter number: \"))\n",
    "\n",
    "if Number % 2 == 1:\n",
    "    print(\"Number = Odd\")\n",
    "else:\n",
    "    print(\"Number = Even\")"
   ]
  },
  {
   "cell_type": "code",
   "execution_count": 9,
   "id": "bd5a6b9c",
   "metadata": {},
   "outputs": [
    {
     "name": "stdout",
     "output_type": "stream",
     "text": [
      "Please enter your age: 45\n",
      "You are an adult\n"
     ]
    }
   ],
   "source": [
    "Age = int(input(\"Please enter your age: \"))\n",
    "\n",
    "if Age >= 60:\n",
    "    print(\"You are a senior\")\n",
    "elif Age >= 20:\n",
    "    print(\"You are an adult\")\n",
    "elif Age >= 13:\n",
    "    print(\"You are a teenager\")\n",
    "else:\n",
    "    print(\"You are a child\")\n",
    "    "
   ]
  },
  {
   "cell_type": "code",
   "execution_count": 13,
   "id": "ac090a20",
   "metadata": {},
   "outputs": [
    {
     "name": "stdout",
     "output_type": "stream",
     "text": [
      "Please enter temperature: 100\n",
      "Temperature is Very Hot\n"
     ]
    }
   ],
   "source": [
    "\n",
    "# Farenheight - 17 = celsius\n",
    "\n",
    "Temp = (int(input(\"Please enter temperature: \")) - 32) * 5 / 9\n",
    "\n",
    "if Temp >= 35:\n",
    "    print(\"Temperature is Very Hot\")\n",
    "elif Temp >= 25:\n",
    "    print(\"Temperature is Hot\")\n",
    "elif Temp >= 15:\n",
    "    print(\"Temperature is Warm\")\n",
    "else:\n",
    "    print(\"Temperature is Cold\")\n",
    "    "
   ]
  },
  {
   "cell_type": "code",
   "execution_count": null,
   "id": "e92c297b",
   "metadata": {},
   "outputs": [],
   "source": []
  }
 ],
 "metadata": {
  "kernelspec": {
   "display_name": "Python 3 (ipykernel)",
   "language": "python",
   "name": "python3"
  },
  "language_info": {
   "codemirror_mode": {
    "name": "ipython",
    "version": 3
   },
   "file_extension": ".py",
   "mimetype": "text/x-python",
   "name": "python",
   "nbconvert_exporter": "python",
   "pygments_lexer": "ipython3",
   "version": "3.9.13"
  }
 },
 "nbformat": 4,
 "nbformat_minor": 5
}
