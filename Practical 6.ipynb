{
 "cells": [
  {
   "cell_type": "code",
   "execution_count": 4,
   "id": "f817ad63",
   "metadata": {},
   "outputs": [
    {
     "name": "stdout",
     "output_type": "stream",
     "text": [
      "Enter first number: 7\n",
      "Enter second number: 100\n",
      "700\n"
     ]
    }
   ],
   "source": [
    "# 1\n",
    "\n",
    "A = int(input(\"Enter first number: \"))\n",
    "B = int(input(\"Enter second number: \"))\n",
    "\n",
    "if (A*B)<=100:\n",
    "    print(A*B)\n",
    "else:\n",
    "    print(A+B)\n"
   ]
  },
  {
   "cell_type": "code",
   "execution_count": 5,
   "id": "56f28c9a",
   "metadata": {},
   "outputs": [
    {
     "name": "stdout",
     "output_type": "stream",
     "text": [
      "3\n",
      "5\n",
      "7\n",
      "9\n",
      "11\n",
      "13\n",
      "15\n",
      "17\n",
      "19\n"
     ]
    }
   ],
   "source": [
    "# 2\n",
    "\n",
    "x = 0\n",
    "\n",
    "for i in range(1,11):\n",
    "    if i==1:\n",
    "        pass\n",
    "    else:\n",
    "        x=i-1\n",
    "        print(i+x)\n",
    "        \n"
   ]
  },
  {
   "cell_type": "code",
   "execution_count": 25,
   "id": "274c9044",
   "metadata": {},
   "outputs": [
    {
     "name": "stdout",
     "output_type": "stream",
     "text": [
      "[75, 65, 75, 30, 75, 2]\n",
      "False\n",
      "[10, 20, 30, 40, 10]\n",
      "True\n"
     ]
    }
   ],
   "source": [
    "#3\n",
    "\n",
    "numbers_x = [10,20,30,40,10]\n",
    "numbers_y = [75,65,75,30,75,2]\n",
    "\n",
    "Length = (len(numbers_y))-1\n",
    "\n",
    "A = numbers_y[0]\n",
    "B = numbers_y[Length]\n",
    "\n",
    "if A == B:\n",
    "    print(numbers_y)\n",
    "    print(\"True\")\n",
    "else:\n",
    "    print(numbers_y)\n",
    "    print(\"False\")\n",
    "    \n",
    "Length2 = (len(numbers_x))-1\n",
    "\n",
    "A = numbers_x[0]\n",
    "B = numbers_x[Length2]\n",
    "\n",
    "if A == B:\n",
    "    print(numbers_x)\n",
    "    print(\"True\")\n",
    "else:\n",
    "    print(numbers_x)\n",
    "    print(\"False\")\n",
    "\n"
   ]
  },
  {
   "cell_type": "code",
   "execution_count": 40,
   "id": "e656ab7a",
   "metadata": {},
   "outputs": [
    {
     "name": "stdout",
     "output_type": "stream",
     "text": [
      "Enter length: 5\n",
      "1\n",
      "1 2\n",
      "1 2 3\n",
      "1 2 3 4\n",
      "1 2 3 4 5\n"
     ]
    }
   ],
   "source": [
    "# 4\n",
    "\n",
    "length = int(input(\"Enter length: \"))+1\n",
    "\n",
    "word = ''\n",
    "\n",
    "\n",
    "\n",
    "for i in range(1,length):\n",
    "    \n",
    "    if i == 1:\n",
    "        print(i)\n",
    "        word = str(i)\n",
    "    else:\n",
    "        for x in range(2,length):\n",
    "            word = word + ' ' + str(x) \n",
    "            print(word)\n",
    "        break\n",
    "\n"
   ]
  },
  {
   "cell_type": "code",
   "execution_count": null,
   "id": "91ae3158",
   "metadata": {},
   "outputs": [],
   "source": []
  }
 ],
 "metadata": {
  "kernelspec": {
   "display_name": "Python 3 (ipykernel)",
   "language": "python",
   "name": "python3"
  },
  "language_info": {
   "codemirror_mode": {
    "name": "ipython",
    "version": 3
   },
   "file_extension": ".py",
   "mimetype": "text/x-python",
   "name": "python",
   "nbconvert_exporter": "python",
   "pygments_lexer": "ipython3",
   "version": "3.9.13"
  }
 },
 "nbformat": 4,
 "nbformat_minor": 5
}
