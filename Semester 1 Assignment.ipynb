{
 "cells": [
  {
   "cell_type": "code",
   "execution_count": 1,
   "id": "291d7133",
   "metadata": {},
   "outputs": [
    {
     "name": "stdout",
     "output_type": "stream",
     "text": [
      "Enter Username:Robot\n",
      "Enter password:pass\n",
      "Access Granted!\n"
     ]
    }
   ],
   "source": [
    "# Question 3.1\n",
    "userStored = \"Robot\"\n",
    "passwordStored = \"pass\"\n",
    "userName = input('Enter Username:')\n",
    "\n",
    "if userName == userStored:\n",
    "    \n",
    "    userPassword = input('Enter password:')\n",
    "    if userPassword == passwordStored:\n",
    "        print(\"Access Granted!\")\n",
    "    else:\n",
    "        print(\"Incorrect Password\")\n",
    "            \n",
    "else:\n",
    "    print(\"Incorrect User\")"
   ]
  },
  {
   "cell_type": "code",
   "execution_count": 16,
   "id": "8576c21b",
   "metadata": {},
   "outputs": [
    {
     "name": "stdout",
     "output_type": "stream",
     "text": [
      "Please enter a number to gain the factorial: 6\n",
      "720\n"
     ]
    }
   ],
   "source": [
    "# Question 3.2\n",
    "\n",
    "userNumber = int(input('Please enter a number to gain the factorial: '))\n",
    "\n",
    "factorial = userNumber\n",
    "\n",
    "iCounter = 1\n",
    "\n",
    "while iCounter < userNumber:\n",
    "    factorial = iCounter * factorial\n",
    "    iCounter += 1\n",
    "    \n",
    "else:\n",
    "    print(factorial)"
   ]
  },
  {
   "cell_type": "code",
   "execution_count": 13,
   "id": "57c01e16",
   "metadata": {},
   "outputs": [
    {
     "name": "stdin",
     "output_type": "stream",
     "text": [
      "Enter height of pyramid:  4\n"
     ]
    },
    {
     "name": "stdout",
     "output_type": "stream",
     "text": [
      " * * * *\n",
      "  * * *\n",
      "   * *\n",
      "    *\n"
     ]
    }
   ],
   "source": [
    "# Question 3.3\n",
    "\n",
    "height = int(input('Enter height of pyramid: '))\n",
    "\n",
    "i = 1\n",
    "x = 1\n",
    "z = 1\n",
    "Spaces = 1\n",
    "\n",
    "row = height\n",
    "\n",
    "symbol = ' *'\n",
    "\n",
    "word = ''\n",
    "\n",
    "for i in range(0, height):\n",
    "    \n",
    "    for x in range(1, row):\n",
    "        symbol = symbol + ' *'\n",
    "    \n",
    "    else:\n",
    "        print(symbol)\n",
    "        Spaces = Spaces + 1\n",
    "        row = row - 1\n",
    "        symbol = '*'\n",
    "        for z in range(0, Spaces):\n",
    "            symbol = ' ' + symbol\n",
    "     \n",
    "    \n",
    "    \n"
   ]
  },
  {
   "cell_type": "code",
   "execution_count": null,
   "id": "acad23f1",
   "metadata": {},
   "outputs": [],
   "source": []
  }
 ],
 "metadata": {
  "kernelspec": {
   "display_name": "Python 3 (ipykernel)",
   "language": "python",
   "name": "python3"
  },
  "language_info": {
   "codemirror_mode": {
    "name": "ipython",
    "version": 3
   },
   "file_extension": ".py",
   "mimetype": "text/x-python",
   "name": "python",
   "nbconvert_exporter": "python",
   "pygments_lexer": "ipython3",
   "version": "3.11.7"
  }
 },
 "nbformat": 4,
 "nbformat_minor": 5
}
