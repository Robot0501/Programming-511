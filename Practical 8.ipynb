{
 "cells": [
  {
   "cell_type": "code",
   "execution_count": 5,
   "id": "e5132e05-8697-489e-a305-4737730bb804",
   "metadata": {},
   "outputs": [
    {
     "name": "stdin",
     "output_type": "stream",
     "text": [
      "Enter a number  5\n",
      "Enter a number  4\n"
     ]
    },
    {
     "name": "stdout",
     "output_type": "stream",
     "text": [
      "the sun of 5 and 4 is 9\n",
      "the sum of 5 and 4 is 9\n",
      "the square of the sum is 81\n"
     ]
    }
   ],
   "source": [
    "#1 \n",
    "\n",
    "def addTwoNumbers(n1,n2):\n",
    "    sumn1n2=n1+n2\n",
    "    print(f\"the sun of {n1} and {n2} is {sumn1n2}\")\n",
    "def addTwoNumbersR(n3,n4):\n",
    "    sumn3n4=n3+n4\n",
    "    return sumn3n4\n",
    "\n",
    "num1=int(input(\"Enter a number \"))\n",
    "num2=int(input(\"Enter a number \"))\n",
    "\n",
    "addTwoNumbers(num1,num2)\n",
    "\n",
    "sumR=addTwoNumbersR(num1,num2)\n",
    "\n",
    "print(f\"the sum of {num1} and {num2} is {sumR}\")\n",
    "\n",
    "sumR=sumR**2\n",
    "\n",
    "print(f\"the square of the sum is {sumR}\")\n",
    "\n",
    "    "
   ]
  },
  {
   "cell_type": "code",
   "execution_count": 6,
   "id": "90bf2c6b-2cca-4e10-92f9-ddf8818a4db8",
   "metadata": {},
   "outputs": [
    {
     "name": "stdout",
     "output_type": "stream",
     "text": [
      "Your name is S andd your age is 14!\n"
     ]
    }
   ],
   "source": [
    "#2.1\n",
    "\n",
    "def NameAndAge(name,age):\n",
    "    print(f\"Your name is {name} and your age is {age}!\")\n",
    "\n",
    "name = \"S\"\n",
    "age = 14\n",
    "NameAndAge(name,age)\n"
   ]
  },
  {
   "cell_type": "code",
   "execution_count": 9,
   "id": "f77640a4-1220-400e-85d9-ce025ebbbedb",
   "metadata": {},
   "outputs": [
    {
     "name": "stdout",
     "output_type": "stream",
     "text": [
      "Your name is J and your salary is 4000!\n"
     ]
    }
   ],
   "source": [
    "#2.2\n",
    "\n",
    "def show_employee(empName,salary=9000):\n",
    "\n",
    "    print(f\"Your name is {empName} and your salary is {salary}!\")\n",
    "\n",
    "empName = \"J\"\n",
    "salary = 4000\n",
    "\n",
    "show_employee(empName,salary)\n"
   ]
  },
  {
   "cell_type": "code",
   "execution_count": 15,
   "id": "4d26bb1a-b18b-4a43-aef3-eb9bdabdc6eb",
   "metadata": {},
   "outputs": [
    {
     "name": "stdout",
     "output_type": "stream",
     "text": [
      "4.5\n"
     ]
    }
   ],
   "source": [
    "#2.3\n",
    "\n",
    "def compute_average(numbers):\n",
    "    total = 0\n",
    "    for i in numbers:\n",
    "        total= total + i\n",
    "    length = len(numbers)\n",
    "    average = total/length\n",
    "    return average\n",
    "\n",
    "numbers = [1,2,3,4,5,6,7,8]\n",
    "\n",
    "value = compute_average(numbers)\n",
    "\n",
    "print(value)\n"
   ]
  },
  {
   "cell_type": "code",
   "execution_count": 17,
   "id": "f244272a-ed00-4b2c-bc14-4c67587da7b9",
   "metadata": {},
   "outputs": [
    {
     "name": "stdout",
     "output_type": "stream",
     "text": [
      "6\n"
     ]
    }
   ],
   "source": [
    "#2.4 \n",
    "\n",
    "def calculate_area(length,width):\n",
    "    area = length*width\n",
    "    return area\n",
    "\n",
    "length = 2\n",
    "width = 3\n",
    "area = calculate_area(length,width)\n",
    "\n",
    "print(area)\n",
    "\n"
   ]
  },
  {
   "cell_type": "code",
   "execution_count": 22,
   "id": "bd0ac882-9169-4ce0-b81d-2235ae87b26b",
   "metadata": {},
   "outputs": [
    {
     "name": "stdin",
     "output_type": "stream",
     "text": [
      "Enter length of sequence:  6\n"
     ]
    },
    {
     "name": "stdout",
     "output_type": "stream",
     "text": [
      "1\n",
      "1\n",
      "1\n",
      "3\n",
      "5\n",
      "9\n"
     ]
    }
   ],
   "source": [
    "#2.5\n",
    "\n",
    "Padovan = [1,1,1]\n",
    "\n",
    "length = int(input(\"Enter length of sequence: \")) - 2\n",
    "\n",
    "position = 3\n",
    "\n",
    "for i in Padovan:\n",
    "    print(Padovan[i])\n",
    "\n",
    "for i in range(1,length):\n",
    "\n",
    "    result = Padovan[position-1] + Padovan[position-2] + Padovan[position-3]\n",
    "    position+=1\n",
    "    Padovan.append(result)\n",
    "\n",
    "    print(result)\n",
    "    \n"
   ]
  },
  {
   "cell_type": "code",
   "execution_count": null,
   "id": "472bc0af-0a61-46c2-a1b1-13f33480e7af",
   "metadata": {},
   "outputs": [],
   "source": []
  }
 ],
 "metadata": {
  "kernelspec": {
   "display_name": "Python 3 (ipykernel)",
   "language": "python",
   "name": "python3"
  },
  "language_info": {
   "codemirror_mode": {
    "name": "ipython",
    "version": 3
   },
   "file_extension": ".py",
   "mimetype": "text/x-python",
   "name": "python",
   "nbconvert_exporter": "python",
   "pygments_lexer": "ipython3",
   "version": "3.11.7"
  }
 },
 "nbformat": 4,
 "nbformat_minor": 5
}
