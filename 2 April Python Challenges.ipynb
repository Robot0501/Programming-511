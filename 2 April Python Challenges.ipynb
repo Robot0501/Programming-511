{
 "cells": [
  {
   "cell_type": "code",
   "execution_count": null,
   "id": "a4bd9a5d",
   "metadata": {},
   "outputs": [],
   "source": [
    "# Online status\n",
    "def online_count(statuses):\n",
    "    \n",
    "    count = 0\n",
    "    \n",
    "    for x in statuses:\n",
    "        \n",
    "        if statuses[x]==\"online\":\n",
    "            count+=1\n",
    "    return(count)\n",
    "            \n",
    "\n",
    "statuses = {\"Alice\":\"online\", \"Bob\":\"offline\", \"Eve\":\"online\", \"Steve\":\"online\"}\n",
    "    \n",
    "online_count(statuses)"
   ]
  },
  {
   "cell_type": "code",
   "execution_count": null,
   "id": "50c0bb8e",
   "metadata": {},
   "outputs": [],
   "source": [
    "# Randomness\n",
    "\n",
    "def random_number():\n",
    "    \n",
    "    import random\n",
    "    \n",
    "    return(random.randint(1,100))\n",
    "    \n",
    "random_number()\n"
   ]
  },
  {
   "cell_type": "code",
   "execution_count": null,
   "id": "4c751888",
   "metadata": {},
   "outputs": [],
   "source": [
    "# Type Check\n",
    "\n",
    "def only_ints(num1,num2):\n",
    "    \n",
    "    \n",
    "    if type(num1)==int and type(num2)==int:\n",
    "        return(True)\n",
    "    else:\n",
    "        return(False)\n",
    "    \n",
    "only_ints(1,1)\n"
   ]
  },
  {
   "cell_type": "code",
   "execution_count": 33,
   "id": "4f8a851c",
   "metadata": {},
   "outputs": [
    {
     "data": {
      "text/plain": [
       "False"
      ]
     },
     "execution_count": 33,
     "metadata": {},
     "output_type": "execute_result"
    }
   ],
   "source": [
    "# Double Letters\n",
    "\n",
    "def double_letters(sString):\n",
    "    \n",
    "    x = ''\n",
    "    i = ''\n",
    "    counter = 1\n",
    "    bFinished = 'False'\n",
    "    \n",
    "    for x in sString:\n",
    "        \n",
    "        i = sString[counter]\n",
    "        \n",
    "        if x == i:\n",
    "            return(True)\n",
    "            bFinished = 'True'\n",
    "            break\n",
    "        else:\n",
    "            counter+=1\n",
    "            if counter==len(sString):\n",
    "                counter = 1\n",
    "        \n",
    "            \n",
    "    if bFinished!='True':\n",
    "        return(False)\n",
    "    \n",
    "sString = \"ferel\"\n",
    "    \n",
    "double_letters(sString)\n"
   ]
  },
  {
   "cell_type": "code",
   "execution_count": 51,
   "id": "be9e7b00",
   "metadata": {},
   "outputs": [
    {
     "data": {
      "text/plain": [
       "''"
      ]
     },
     "execution_count": 51,
     "metadata": {},
     "output_type": "execute_result"
    }
   ],
   "source": [
    "# Adding and removing dots\n",
    "\n",
    "def add_dots(sString):\n",
    "    \n",
    "    word = ''\n",
    "    length = len(sString) - 1\n",
    "    \n",
    "    for x in sString:\n",
    "        \n",
    "        if x == sString[length]:\n",
    "            word = word + x\n",
    "        else:\n",
    "            word =  word + x + '.'\n",
    "         \n",
    "    \n",
    "    return(word)\n",
    "\n",
    "def remove_dots(sString):\n",
    "    \n",
    "    word = ''\n",
    "    \n",
    "    for x in sString:\n",
    "        \n",
    "        if x == '.':\n",
    "            pass\n",
    "        else:\n",
    "            word = word + x\n",
    "            \n",
    "    return(word)\n",
    "    \n",
    "    \n",
    "\n",
    "sStrings=\"\"\n",
    "\n",
    "remove_dots(add_dots(sStrings))\n"
   ]
  },
  {
   "cell_type": "code",
   "execution_count": null,
   "id": "03bd23aa",
   "metadata": {},
   "outputs": [],
   "source": []
  }
 ],
 "metadata": {
  "kernelspec": {
   "display_name": "Python 3 (ipykernel)",
   "language": "python",
   "name": "python3"
  },
  "language_info": {
   "codemirror_mode": {
    "name": "ipython",
    "version": 3
   },
   "file_extension": ".py",
   "mimetype": "text/x-python",
   "name": "python",
   "nbconvert_exporter": "python",
   "pygments_lexer": "ipython3",
   "version": "3.9.13"
  }
 },
 "nbformat": 4,
 "nbformat_minor": 5
}
