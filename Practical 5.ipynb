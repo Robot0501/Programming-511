{
 "cells": [
  {
   "cell_type": "code",
   "execution_count": 2,
   "id": "98e4fac1",
   "metadata": {},
   "outputs": [
    {
     "name": "stdout",
     "output_type": "stream",
     "text": [
      "10\n",
      "12\n",
      "14\n",
      "16\n",
      "18\n",
      "20\n",
      "22\n",
      "24\n",
      "26\n",
      "28\n",
      "30\n",
      "32\n",
      "34\n",
      "36\n",
      "38\n",
      "40\n"
     ]
    }
   ],
   "source": [
    "# 1\n",
    "\n",
    "for i in range(10,41,2):\n",
    "    print(i)"
   ]
  },
  {
   "cell_type": "code",
   "execution_count": 9,
   "id": "3dd3b46c",
   "metadata": {},
   "outputs": [
    {
     "name": "stdout",
     "output_type": "stream",
     "text": [
      "1\n",
      "2\n",
      "4\n",
      "5\n",
      "7\n",
      "8\n",
      "9\n"
     ]
    }
   ],
   "source": [
    "# 2\n",
    "\n",
    "for i in range(1,10):\n",
    "    if i == 3 or i == 6:\n",
    "        x = 'I'\n",
    "    else:\n",
    "        print(i)"
   ]
  },
  {
   "cell_type": "code",
   "execution_count": 13,
   "id": "5e6bc478",
   "metadata": {},
   "outputs": [
    {
     "name": "stdout",
     "output_type": "stream",
     "text": [
      "Number of even numbers: 4 \n",
      "Number of odd numbers: 5\n"
     ]
    }
   ],
   "source": [
    "# 3 \n",
    "\n",
    "numbers = [1,2,3,4,5,6,7,8,9]\n",
    "\n",
    "odd = 0\n",
    "even = 0\n",
    "\n",
    "for i in numbers:\n",
    "    if i % 2 == 0:\n",
    "        even += 1\n",
    "    else:\n",
    "        odd += 1\n",
    "\n",
    "print(f'Number of even numbers: {even} ')\n",
    "print(f'Number of odd numbers: {odd}')"
   ]
  },
  {
   "cell_type": "code",
   "execution_count": 15,
   "id": "6684bfd4",
   "metadata": {},
   "outputs": [
    {
     "name": "stdout",
     "output_type": "stream",
     "text": [
      "1\n",
      "2\n",
      "Fizz\n",
      "4\n",
      "Buzz\n",
      "Fizz\n",
      "7\n",
      "8\n",
      "Fizz\n",
      "Buzz\n",
      "11\n",
      "Fizz\n",
      "13\n",
      "14\n",
      "FizzBuzz\n",
      "16\n",
      "17\n",
      "Fizz\n",
      "19\n",
      "Buzz\n",
      "Fizz\n",
      "22\n",
      "23\n",
      "Fizz\n",
      "Buzz\n",
      "26\n",
      "Fizz\n",
      "28\n",
      "29\n",
      "FizzBuzz\n",
      "31\n",
      "32\n",
      "Fizz\n",
      "34\n",
      "Buzz\n",
      "Fizz\n",
      "37\n",
      "38\n",
      "Fizz\n",
      "Buzz\n",
      "41\n",
      "Fizz\n",
      "43\n",
      "44\n",
      "FizzBuzz\n",
      "46\n",
      "47\n",
      "Fizz\n",
      "49\n",
      "Buzz\n"
     ]
    }
   ],
   "source": [
    "# 4\n",
    "\n",
    "for i in range(1,51):\n",
    "    if i % 3 == 0 and i % 5 == 0:\n",
    "        print(\"FizzBuzz\")\n",
    "    elif i % 5 == 0:\n",
    "        print(\"Buzz\")\n",
    "    elif i % 3 == 0:\n",
    "        print(\"Fizz\")\n",
    "    else:\n",
    "        print(i)\n"
   ]
  },
  {
   "cell_type": "code",
   "execution_count": 29,
   "id": "817f6d14",
   "metadata": {},
   "outputs": [
    {
     "name": "stdout",
     "output_type": "stream",
     "text": [
      "Small apple\n",
      "Small banana\n",
      "Small strawberry\n",
      "Medium apple\n",
      "Medium banana\n",
      "Medium strawberry\n",
      "Large apple\n",
      "Large banana\n",
      "Large strawberry\n"
     ]
    }
   ],
   "source": [
    "# 5\n",
    "\n",
    "size = ['Small', 'Medium', 'Large']\n",
    "Fruits = ['apple', 'banana', 'strawberry']\n",
    "\n",
    "\n",
    "rows = 0\n",
    "cols = 0\n",
    "\n",
    "for row in size:\n",
    "    \n",
    "    for col in Fruits:\n",
    "        print(size[rows], Fruits[cols])\n",
    "        cols+=1\n",
    "    cols=0\n",
    "    rows+=1\n"
   ]
  },
  {
   "cell_type": "code",
   "execution_count": 32,
   "id": "27713263",
   "metadata": {},
   "outputs": [
    {
     "name": "stdout",
     "output_type": "stream",
     "text": [
      "Enter Password:Password\n",
      "Enter Password:password123\n",
      "Access granted\n"
     ]
    }
   ],
   "source": [
    "\n",
    "password = \"password123\"\n",
    "\n",
    "passs = ''\n",
    "\n",
    "attempts = 0\n",
    "\n",
    "while passs!=password:\n",
    "    \n",
    "    if attempts>=4:\n",
    "        print(\"Try again tomorrow\")\n",
    "        break\n",
    "    else:\n",
    "        passs=input(\"Enter Password:\")\n",
    "        if passs==password:\n",
    "            print(\"Access granted\")\n",
    "        else:\n",
    "            attempts+=1\n",
    "\n"
   ]
  },
  {
   "cell_type": "code",
   "execution_count": null,
   "id": "4cce077e",
   "metadata": {},
   "outputs": [],
   "source": []
  }
 ],
 "metadata": {
  "kernelspec": {
   "display_name": "Python 3 (ipykernel)",
   "language": "python",
   "name": "python3"
  },
  "language_info": {
   "codemirror_mode": {
    "name": "ipython",
    "version": 3
   },
   "file_extension": ".py",
   "mimetype": "text/x-python",
   "name": "python",
   "nbconvert_exporter": "python",
   "pygments_lexer": "ipython3",
   "version": "3.9.13"
  }
 },
 "nbformat": 4,
 "nbformat_minor": 5
}
